{
 "cells": [
  {
   "cell_type": "code",
   "execution_count": 1,
   "id": "128d44c3-fa86-49f3-b595-8b4c574ea2c2",
   "metadata": {},
   "outputs": [],
   "source": [
    "##==== import ====##\n",
    "import os\n",
    "import time\n",
    "import numpy as np\n",
    "import pandas as pd\n",
    "import math\n",
    "import scipy\n",
    "import sklearn\n",
    "\n",
    "from IPython.display import Image\n",
    "\n",
    "#plot-----------------------------------------------------------------------------------------\n",
    "import matplotlib.pyplot as plt\n",
    "import seaborn as sns; sns.set()\n",
    "from matplotlib.colors import ListedColormap, LogNorm\n",
    "import matplotlib.tri as mtri\n",
    "\n",
    "#statistical ----------------------------------------------------------------------------------\n",
    "from sklearn.preprocessing import StandardScaler\n",
    "from scipy.stats import dirichlet\n",
    "from scipy import stats\n",
    "from scipy.stats import rankdata\n",
    "\n",
    "#generating data-------------------------------------------------------------------------------\n",
    "from sklearn.datasets import make_blobs\n",
    "from sklearn.datasets import load_iris\n",
    "from sklearn.datasets import make_classification\n",
    "from sklearn.datasets import make_circles, make_classification, make_moons\n",
    "import matplotlib as mpl\n",
    "import matplotlib.gridspec as gridspec\n",
    "from matplotlib.patches import Ellipse\n",
    "from matplotlib.colors import LogNorm\n",
    "\n",
    "#classification model---------------------------------------------------------------------------\n",
    "from sklearn.cluster import KMeans\n",
    "from sklearn.linear_model import LogisticRegression\n",
    "from sklearn.discriminant_analysis import QuadraticDiscriminantAnalysis\n",
    "from sklearn.ensemble import AdaBoostClassifier, RandomForestClassifier\n",
    "from sklearn.gaussian_process import GaussianProcessClassifier\n",
    "from sklearn.gaussian_process.kernels import RBF\n",
    "from sklearn.naive_bayes import GaussianNB\n",
    "from sklearn.neighbors import KNeighborsClassifier\n",
    "from sklearn.neural_network import MLPClassifier\n",
    "from sklearn.pipeline import make_pipeline\n",
    "from sklearn.svm import SVC\n",
    "from sklearn.tree import DecisionTreeClassifier\n",
    "\n",
    "\n",
    "#inspection of result-----------------------------------------------------------------------------\n",
    "from sklearn.metrics import classification_report\n",
    "from sklearn.metrics import ConfusionMatrixDisplay\n",
    "from sklearn.metrics import roc_curve, auc\n",
    "from sklearn.inspection import DecisionBoundaryDisplay\n",
    "from sklearn.model_selection import StratifiedKFold\n",
    "\n",
    "#machine learning---------------------------------------------------------------------------------\n",
    "from sklearn.model_selection import train_test_split\n",
    "\n",
    "#mixture model------------------------------------------------------------------------------------\n",
    "from sklearn import mixture\n",
    "from sklearn.naive_bayes import GaussianNB\n",
    "from sklearn.mixture import BayesianGaussianMixture, GaussianMixture\n",
    "from sklearn.metrics import accuracy_score,precision_score,recall_score,classification_report,confusion_matrix"
   ]
  },
  {
   "cell_type": "markdown",
   "id": "30e64c28-d59c-4a59-8058-d1b1871e34c5",
   "metadata": {},
   "source": [
    "When you need install of packages use: %pip install packagename"
   ]
  },
  {
   "cell_type": "code",
   "execution_count": null,
   "id": "a93b8490-6907-4f0a-b102-1c10324c007f",
   "metadata": {},
   "outputs": [],
   "source": [
    "%pip install mixture"
   ]
  }
 ],
 "metadata": {
  "kernelspec": {
   "display_name": "Python 3 (ipykernel)",
   "language": "python",
   "name": "python3"
  },
  "language_info": {
   "codemirror_mode": {
    "name": "ipython",
    "version": 3
   },
   "file_extension": ".py",
   "mimetype": "text/x-python",
   "name": "python",
   "nbconvert_exporter": "python",
   "pygments_lexer": "ipython3",
   "version": "3.11.11"
  }
 },
 "nbformat": 4,
 "nbformat_minor": 5
}
